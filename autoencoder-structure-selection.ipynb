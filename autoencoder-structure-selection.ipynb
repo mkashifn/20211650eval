{
 "cells": [
  {
   "cell_type": "code",
   "execution_count": 1,
   "metadata": {
    "_cell_guid": "b1076dfc-b9ad-4769-8c92-a6c4dae69d19",
    "_uuid": "8f2839f25d086af736a60e9eeb907d3b93b6e0e5",
    "execution": {
     "iopub.execute_input": "2021-02-25T10:03:06.905381Z",
     "iopub.status.busy": "2021-02-25T10:03:06.904708Z",
     "iopub.status.idle": "2021-02-25T10:03:14.019080Z",
     "shell.execute_reply": "2021-02-25T10:03:14.019623Z"
    },
    "papermill": {
     "duration": 7.129668,
     "end_time": "2021-02-25T10:03:14.019982",
     "exception": false,
     "start_time": "2021-02-25T10:03:06.890314",
     "status": "completed"
    },
    "tags": []
   },
   "outputs": [],
   "source": [
    "# Imports\n",
    "\n",
    "########################################################################\n",
    "# Python Standard Libraries\n",
    "import os\n",
    "import multiprocessing\n",
    "from timeit import default_timer as timer\n",
    "import random\n",
    "import math\n",
    "\n",
    "########################################################################\n",
    "# Numpy Library\n",
    "import numpy as np # linear algebra\n",
    "\n",
    "########################################################################\n",
    "# Pandas Library\n",
    "import pandas as pd # data processing, CSV file I/O (e.g. pd.read_csv)\n",
    "\n",
    "########################################################################\n",
    "# MATPLOT Library\n",
    "import matplotlib.cm as cm\n",
    "import matplotlib.pyplot as plt\n",
    "import matplotlib.patches as mpatches\n",
    "from matplotlib.ticker import MaxNLocator\n",
    "%matplotlib inline\n",
    "\n",
    "########################################################################\n",
    "# SKLearn Library\n",
    "from sklearn.preprocessing import StandardScaler, MinMaxScaler\n",
    "from sklearn.decomposition import PCA\n",
    "from sklearn.model_selection import train_test_split \n",
    "from sklearn.linear_model import LinearRegression\n",
    "from sklearn.ensemble import IsolationForest\n",
    "from sklearn.neighbors import LocalOutlierFactor\n",
    "from sklearn.svm import OneClassSVM\n",
    "from sklearn import metrics\n",
    "from sklearn.metrics import accuracy_score, precision_recall_curve, classification_report, confusion_matrix, average_precision_score, roc_curve, auc, multilabel_confusion_matrix\n",
    "\n",
    "########################################################################\n",
    "# SCIPY Library\n",
    "from scipy.stats import gaussian_kde\n",
    "import scipy.stats as st\n",
    "\n",
    "\n",
    "########################################################################\n",
    "# Keras Library\n",
    "from keras.models import Sequential\n",
    "from keras.layers import Dense\n",
    "\n",
    "########################################################################\n",
    "# Init random seed\n",
    "#seed = 13\n",
    "#np.random.seed(seed)"
   ]
  },
  {
   "cell_type": "code",
   "execution_count": 2,
   "metadata": {
    "execution": {
     "iopub.execute_input": "2021-02-25T10:03:14.045095Z",
     "iopub.status.busy": "2021-02-25T10:03:14.044099Z",
     "iopub.status.idle": "2021-02-25T10:03:14.813895Z",
     "shell.execute_reply": "2021-02-25T10:03:14.813354Z"
    },
    "papermill": {
     "duration": 0.783438,
     "end_time": "2021-02-25T10:03:14.814048",
     "exception": false,
     "start_time": "2021-02-25T10:03:14.030610",
     "status": "completed"
    },
    "tags": []
   },
   "outputs": [
    {
     "name": "stdout",
     "output_type": "stream",
     "text": [
      "RAM:                   17.587090 GB\n",
      "CORES:                 4\n",
      "Architecture:        x86_64\r\n",
      "CPU op-mode(s):      32-bit, 64-bit\r\n",
      "Byte Order:          Little Endian\r\n",
      "CPU(s):              4\r\n",
      "On-line CPU(s) list: 0-3\r\n",
      "Thread(s) per core:  2\r\n",
      "Core(s) per socket:  2\r\n",
      "Socket(s):           1\r\n",
      "NUMA node(s):        1\r\n",
      "Vendor ID:           GenuineIntel\r\n",
      "CPU family:          6\r\n",
      "Model:               85\r\n",
      "Model name:          Intel(R) Xeon(R) CPU @ 2.00GHz\r\n",
      "Stepping:            3\r\n",
      "CPU MHz:             2000.182\r\n",
      "BogoMIPS:            4000.36\r\n",
      "Hypervisor vendor:   KVM\r\n",
      "Virtualization type: full\r\n",
      "L1d cache:           32K\r\n",
      "L1i cache:           32K\r\n",
      "L2 cache:            1024K\r\n",
      "L3 cache:            39424K\r\n",
      "NUMA node0 CPU(s):   0-3\r\n",
      "Flags:               fpu vme de pse tsc msr pae mce cx8 apic sep mtrr pge mca cmov pat pse36 clflush mmx fxsr sse sse2 ss ht syscall nx pdpe1gb rdtscp lm constant_tsc rep_good nopl xtopology nonstop_tsc cpuid tsc_known_freq pni pclmulqdq ssse3 fma cx16 pcid sse4_1 sse4_2 x2apic movbe popcnt aes xsave avx f16c rdrand hypervisor lahf_lm abm 3dnowprefetch invpcid_single pti ssbd ibrs ibpb stibp fsgsbase tsc_adjust bmi1 hle avx2 smep bmi2 erms invpcid rtm mpx avx512f avx512dq rdseed adx smap clflushopt clwb avx512cd avx512bw avx512vl xsaveopt xsavec xgetbv1 xsaves arat md_clear arch_capabilities\r\n"
     ]
    }
   ],
   "source": [
    "# Utility functions\n",
    "########################################################################\n",
    "# Print system information\n",
    "def print_system_info():\n",
    "    mem_bytes = os.sysconf('SC_PAGE_SIZE') * os.sysconf('SC_PHYS_PAGES')  # e.g. 4015976448\n",
    "    mem_gib = mem_bytes/(1024.**3)  # e.g. 3.74\n",
    "    print(\"{:<23}{:f} GB\".format('RAM:', mem_gib))\n",
    "    print(\"{:<23}{:d}\".format('CORES:', multiprocessing.cpu_count()))\n",
    "    !lscpu\n",
    "\n",
    "########################################################################\n",
    "# Walk through input files\n",
    "def print_input_files():\n",
    "    # Input data files are available in the \"../input/\" directory.\n",
    "    for dirname, _, filenames in os.walk('/kaggle/input'):\n",
    "        for filename in filenames:\n",
    "            print(os.path.join(dirname, filename))\n",
    "\n",
    "########################################################################\n",
    "# Dump text files\n",
    "def dump_text_file(fname):\n",
    "    with open(fname, 'r') as f:\n",
    "        print(f.read())\n",
    "\n",
    "########################################################################\n",
    "# Dump CSV files\n",
    "def dump_csv_file(fname, count=5):\n",
    "    # count: 0 - column names only, -1 - all rows, default = 5 rows max\n",
    "    df = pd.read_csv(fname)\n",
    "    if count < 0:\n",
    "        count = df.shape[0]\n",
    "    return df.head(count)\n",
    "\n",
    "########################################################################\n",
    "# Dataset related functions\n",
    "ds_nbaiot = '/kaggle/input/nbaiot-dataset'\n",
    "dn_nbaiot = ['Danmini_Doorbell', 'Ecobee_Thermostat', 'Ennio_Doorbell', 'Philips_B120N10_Baby_Monitor', 'Provision_PT_737E_Security_Camera', 'Provision_PT_838_Security_Camera', 'Samsung_SNH_1011_N_Webcam', 'SimpleHome_XCS7_1002_WHT_Security_Camera', 'SimpleHome_XCS7_1003_WHT_Security_Camera']\n",
    "\n",
    "def fname(ds, f):\n",
    "    if '.csv' not in f:\n",
    "        f = f'{f}.csv'\n",
    "    return os.path.join(ds, f)\n",
    "\n",
    "def fname_nbaiot(f):\n",
    "    return fname(ds_nbaiot, f)\n",
    "\n",
    "def get_nbaiot_device_files():\n",
    "    nbaiot_all_files = dump_csv_file(fname_nbaiot('data_summary'), -1)\n",
    "    nbaiot_all_files = nbaiot_all_files.iloc[:,0:1].values\n",
    "    device_id = 1\n",
    "    indices = []\n",
    "    for j in range(len(nbaiot_all_files)):\n",
    "        if str(device_id) not in str(nbaiot_all_files[j]):\n",
    "            indices.append(j)\n",
    "            device_id += 1\n",
    "    nbaiot_device_files = np.split(nbaiot_all_files, indices)\n",
    "    return nbaiot_device_files\n",
    "\n",
    "def get_nbaiot_device_data(device_id, count_norm=-1, count_anom=-1):\n",
    "    if device_id < 1 or device_id > 9:\n",
    "        assert False, \"Please provide a valid device ID 1-9, both inclusive\"\n",
    "    if count_anom == -1:\n",
    "        count_anom = count_norm\n",
    "    device_index = device_id -1\n",
    "    device_files = get_nbaiot_device_files()\n",
    "    device_file = device_files[device_index]\n",
    "    df = pd.DataFrame()\n",
    "    y = []\n",
    "    for i in range(len(device_file)):\n",
    "        fname = str(device_file[i][0])\n",
    "        df_c = pd.read_csv(fname_nbaiot(fname))\n",
    "        count = count_anom\n",
    "        if 'benign' in fname:\n",
    "            count = count_norm\n",
    "        rows = count if count >=0 else df_c.shape[0]\n",
    "        print(\"processing\", fname, \"rows =\", rows)\n",
    "        y_np = np.ones(rows) if 'benign' in fname else np.zeros(rows)\n",
    "        y.extend(y_np.tolist())\n",
    "        df = pd.concat([df.iloc[:,:].reset_index(drop=True),\n",
    "                      df_c.iloc[:rows,:].reset_index(drop=True)], axis=0)\n",
    "    X = df.iloc[:,:].values\n",
    "    y = np.array(y)\n",
    "    Xdf = df\n",
    "    return (X, y, Xdf)\n",
    "\n",
    "def get_nbaiot_devices_data():\n",
    "    devices_data = []\n",
    "    for i in range(9):\n",
    "        device_id = i + 1\n",
    "        (X, y) = get_nbaiot_device_data(device_id)\n",
    "        devices_data.append((X, y))\n",
    "    return devices_data\n",
    "#print_input_files()\n",
    "print_system_info()"
   ]
  },
  {
   "cell_type": "code",
   "execution_count": 3,
   "metadata": {
    "execution": {
     "iopub.execute_input": "2021-02-25T10:03:14.843114Z",
     "iopub.status.busy": "2021-02-25T10:03:14.842083Z",
     "iopub.status.idle": "2021-02-25T10:03:14.844751Z",
     "shell.execute_reply": "2021-02-25T10:03:14.845271Z"
    },
    "papermill": {
     "duration": 0.020243,
     "end_time": "2021-02-25T10:03:14.845456",
     "exception": false,
     "start_time": "2021-02-25T10:03:14.825213",
     "status": "completed"
    },
    "tags": []
   },
   "outputs": [],
   "source": [
    "def compute_time_complexity_single_pass(neurons_input, structure, neurons_output):\n",
    "    count_hidden_layers = len(structure)\n",
    "    neurons = [neurons_input, *structure, neurons_output]\n",
    "    complexity = 0\n",
    "    for i in range(count_hidden_layers + 1):\n",
    "        complexity += neurons[i] * neurons[i+1]\n",
    "    return complexity"
   ]
  },
  {
   "cell_type": "code",
   "execution_count": 4,
   "metadata": {
    "execution": {
     "iopub.execute_input": "2021-02-25T10:03:14.891596Z",
     "iopub.status.busy": "2021-02-25T10:03:14.890908Z",
     "iopub.status.idle": "2021-02-25T10:03:14.894224Z",
     "shell.execute_reply": "2021-02-25T10:03:14.893638Z"
    },
    "papermill": {
     "duration": 0.037932,
     "end_time": "2021-02-25T10:03:14.894366",
     "exception": false,
     "start_time": "2021-02-25T10:03:14.856434",
     "status": "completed"
    },
    "tags": []
   },
   "outputs": [],
   "source": [
    "dev_1 = {\n",
    "    'name': 'Danmini Doorbell',\n",
    "    'features': 47,\n",
    "    'structure': [97, 48, 73, 58, 64, 53, 83],\n",
    "    'struct_heuristics': [2384, 476],\n",
    "    'struct_genetic': [873, 1],\n",
    "    'struct_random': [57, 16, 18, 61, 59, 59, 71, 46, 16, 47, 70, 83, 50, 18, 91, 26, 86, 94, 65, 18, 45],\n",
    "}\n",
    "\n",
    "dev_2 = {\n",
    "    'name': 'Ecobee Thermostat',\n",
    "    'features': 47,\n",
    "    'structure': [88, 52, 66, 58, 75],\n",
    "    'struct_heuristics': [2160, 432],\n",
    "    'struct_genetic': [804, 40],\n",
    "    'struct_random': [79, 33, 72, 42, 58, 75, 70, 28, 45, 23, 97, 55, 72, 41, 55],\n",
    "}\n",
    "dev_3 = {\n",
    "    'name': 'Ennio Doorbell',\n",
    "    'features': 59,\n",
    "    'structure': [57, 31, 43, 38, 34, 49],\n",
    "    'struct_heuristics': [1408, 281],\n",
    "    'struct_genetic': [1676, 114],\n",
    "    'struct_random': [17, 76, 13, 79, 64, 65, 24, 26, 20, 69, 79, 89, 76, 89, 50, 94],\n",
    "}\n",
    "dev_4 = {\n",
    "    'name': 'Philips B120N10',\n",
    "    'features': 51,\n",
    "    'structure': [101, 46, 67, 55, 60, 50, 75],\n",
    "    'struct_heuristics': [2476, 495],\n",
    "    'struct_genetic': [805, 112],\n",
    "    'struct_random': [66, 30, 81, 53, 55, 12, 96, 91, 21, 28, 71, 50, 22, 61, 15, 34, 80, 37, 95, 57, 97, 65, 89],\n",
    "}\n",
    "dev_5 = {\n",
    "    'name': 'Provision PT737E',\n",
    "    'features': 40,\n",
    "    'structure': [87, 43, 58, 52, 47, 75],\n",
    "    'struct_heuristics': [2150, 430],\n",
    "    'struct_genetic': [1217, 127],\n",
    "    'struct_random': [19, 10, 19, 57, 24, 71, 25, 17, 87, 74, 70, 27, 94, 19, 36, 27, 86, 59, 23, 64],\n",
    "}\n",
    "dev_6 = {\n",
    "    'name': 'Provision PT838',\n",
    "    'features': 42,\n",
    "    'structure': [88, 44, 58, 52, 48, 75],\n",
    "    'struct_heuristics': [2161, 432],\n",
    "    'struct_genetic': [1223, 20],\n",
    "    'struct_random': [74, 11, 57, 20, 97, 18, 37, 82, 40, 90, 17, 65, 25, 45, 59, 67, 30, 55],\n",
    "}\n",
    "dev_7 = {\n",
    "    'name': 'Samsung SNH1011N',\n",
    "    'features': 56,\n",
    "    'structure': [59, 32, 44, 39, 35, 50],\n",
    "    'struct_heuristics': [1447, 289],\n",
    "    'struct_genetic': [430, 60],\n",
    "    'struct_random': [51, 16, 85, 93, 62, 45, 79, 68, 66, 70, 64, 47, 23, 88, 38, 92, 48, 62, 37, 62, 34, 25, 74],\n",
    "}\n",
    "dev_8 = {\n",
    "    'name': 'SimpleHome XCS71002',\n",
    "    'features': 56,\n",
    "    'structure': [76, 48, 59, 53, 67],\n",
    "    'struct_heuristics': [2195, 439],\n",
    "    'struct_genetic': [896, 25],\n",
    "    'struct_random': [91, 12, 32, 87, 39, 96, 20, 73, 58, 37, 57, 71, 81, 35, 55, 53, 56, 42, 92, 58],\n",
    "}\n",
    "dev_9 = {\n",
    "    'name': 'SimpleHome XCS71003',\n",
    "    'features': 56,\n",
    "    'structure_': [88.0, 48.0, 66.0, 59.0, 53.0, 76.0],\n",
    "    'structure': [88, 48, 59, 53, 76],\n",
    "    'struct_heuristics': [2179, 435],\n",
    "    'struct_genetic': [1801, 24],\n",
    "    'struct_random': [34, 60, 64, 29, 17, 60, 14, 63, 92, 65, 95, 64, 86, 29, 84, 14, 22, 44, 46, 86],\n",
    "}\n",
    "devices = [dev_1, dev_2, dev_3, dev_4, dev_5, dev_6, dev_7, dev_8, dev_9]"
   ]
  },
  {
   "cell_type": "code",
   "execution_count": 5,
   "metadata": {
    "execution": {
     "iopub.execute_input": "2021-02-25T10:03:14.924260Z",
     "iopub.status.busy": "2021-02-25T10:03:14.923585Z",
     "iopub.status.idle": "2021-02-25T10:03:14.927211Z",
     "shell.execute_reply": "2021-02-25T10:03:14.926639Z"
    },
    "papermill": {
     "duration": 0.02193,
     "end_time": "2021-02-25T10:03:14.927352",
     "exception": false,
     "start_time": "2021-02-25T10:03:14.905422",
     "status": "completed"
    },
    "tags": []
   },
   "outputs": [],
   "source": [
    "def construct_ae(i, o, b, s):\n",
    "    ae = []\n",
    "    '''\n",
    "       i = number of input neurons\n",
    "       o = number of output neurons\n",
    "       b = number of neurons in the bottleneck\n",
    "       s = layer structure\n",
    "    '''\n",
    "    sr = s[::-1]\n",
    "    # left section\n",
    "    ln = compute_time_complexity_single_pass(i, s, b)\n",
    "    lr = compute_time_complexity_single_pass(i, sr, b)\n",
    "    rn = compute_time_complexity_single_pass(b, s, o)\n",
    "    rr = compute_time_complexity_single_pass(b, sr, o)\n",
    "    if (ln <= lr):\n",
    "        ae.extend(s)\n",
    "    else:\n",
    "        ae.extend(sr)\n",
    "    ae.append(b)\n",
    "    if (rn <= rr):\n",
    "        ae.extend(s)\n",
    "    else:\n",
    "        ae.extend(sr)\n",
    "    return ae"
   ]
  },
  {
   "cell_type": "code",
   "execution_count": 6,
   "metadata": {
    "execution": {
     "iopub.execute_input": "2021-02-25T10:03:14.956914Z",
     "iopub.status.busy": "2021-02-25T10:03:14.956263Z",
     "iopub.status.idle": "2021-02-25T10:03:14.960462Z",
     "shell.execute_reply": "2021-02-25T10:03:14.961443Z"
    },
    "papermill": {
     "duration": 0.023251,
     "end_time": "2021-02-25T10:03:14.961717",
     "exception": false,
     "start_time": "2021-02-25T10:03:14.938466",
     "status": "completed"
    },
    "tags": []
   },
   "outputs": [
    {
     "name": "stdout",
     "output_type": "stream",
     "text": [
      "Evaluation for ANN\n",
      "Naive vs Optimized\n",
      "id,name,Naive,Optimized,Gain\n",
      "1,Danmini Doorbell,32719,28539,12.78\n",
      "2,Ecobee Thermostat,22582,20397,9.68\n",
      "3,Ennio Doorbell,12274,11104,9.53\n",
      "4,Philips B120N10,30167,26689,11.53\n",
      "5,Provision PT737E,21879,18775,14.19\n",
      "6,Provision PT838,22314,19307,13.48\n",
      "7,Samsung SNH1011N,12687,11481,9.51\n",
      "8,SimpleHome XCS71002,19020,17481,8.09\n",
      "9,SimpleHome XCS71003,21819,19215,11.93\n"
     ]
    }
   ],
   "source": [
    "print(\"Evaluation for ANN\")\n",
    "print(\"Naive vs Optimized\")\n",
    "print(\"id,name,Naive,Optimized,Gain\")\n",
    "for i, d in enumerate(devices):\n",
    "    cb = int(compute_time_complexity_single_pass(d['features'], sorted(d['structure'], reverse=True), 1))\n",
    "    ca = int(compute_time_complexity_single_pass(d['features'], d['structure'], 1))\n",
    "    g = (100.0 * (cb - ca))/cb\n",
    "    print(f\"{i + 1},{d['name']},{cb},{ca},{g:0.2f}\")"
   ]
  },
  {
   "cell_type": "code",
   "execution_count": 7,
   "metadata": {
    "execution": {
     "iopub.execute_input": "2021-02-25T10:03:14.995373Z",
     "iopub.status.busy": "2021-02-25T10:03:14.994435Z",
     "iopub.status.idle": "2021-02-25T10:03:14.998945Z",
     "shell.execute_reply": "2021-02-25T10:03:14.998115Z"
    },
    "papermill": {
     "duration": 0.02449,
     "end_time": "2021-02-25T10:03:14.999137",
     "exception": false,
     "start_time": "2021-02-25T10:03:14.974647",
     "status": "completed"
    },
    "tags": []
   },
   "outputs": [
    {
     "name": "stdout",
     "output_type": "stream",
     "text": [
      "Evaluation for ANN\n",
      "Comparison with other techniques\n",
      "id,name,Dahlia,Heuristics,Genetic,Random\n",
      "1,Danmini Doorbell,28539,1247308,41905,57609\n",
      "2,Ecobee Thermostat,20397,1035072,69988,44799\n",
      "3,Ennio Doorbell,11104,479001,290062,52864\n",
      "4,Philips B120N10,26689,1352391,131327,69754\n",
      "5,Provision PT737E,18775,1010930,203366,38751\n",
      "6,Provision PT838,19307,1024746,75846,35663\n",
      "7,Samsung SNH1011N,11481,499504,49940,73823\n",
      "8,SimpleHome XCS71002,17481,1086964,72601,60413\n",
      "9,SimpleHome XCS71003,19215,1070324,144104,55858\n"
     ]
    }
   ],
   "source": [
    "print(\"Evaluation for ANN\")\n",
    "print(\"Comparison with other techniques\")\n",
    "print(\"id,name,Dahlia,Heuristics,Genetic,Random\")\n",
    "for i, d in enumerate(devices):\n",
    "    nbi = d['features']\n",
    "    nbo = 1\n",
    "    s = d['structure']\n",
    "    h = d['struct_heuristics']\n",
    "    g = d['struct_genetic']\n",
    "    r = d['struct_random']\n",
    "    cs = int(compute_time_complexity_single_pass(nbi, s, nbo))\n",
    "    ch = int(compute_time_complexity_single_pass(nbi, h, nbo))\n",
    "    cg = int(compute_time_complexity_single_pass(nbi, g, nbo))\n",
    "    cr = int(compute_time_complexity_single_pass(nbi, r, nbo))\n",
    "    print(f\"{i + 1},{d['name']},{cs},{ch},{cg},{cr}\")"
   ]
  },
  {
   "cell_type": "code",
   "execution_count": 8,
   "metadata": {
    "execution": {
     "iopub.execute_input": "2021-02-25T10:03:15.033182Z",
     "iopub.status.busy": "2021-02-25T10:03:15.032296Z",
     "iopub.status.idle": "2021-02-25T10:03:15.036477Z",
     "shell.execute_reply": "2021-02-25T10:03:15.035527Z"
    },
    "papermill": {
     "duration": 0.025224,
     "end_time": "2021-02-25T10:03:15.036665",
     "exception": false,
     "start_time": "2021-02-25T10:03:15.011441",
     "status": "completed"
    },
    "tags": []
   },
   "outputs": [
    {
     "name": "stdout",
     "output_type": "stream",
     "text": [
      "Evaluation for AE\n",
      "Naive vs Optimized\n",
      "id,name,Naive,Optimized,Gain\n",
      "1,Danmini Doorbell,63184,56112,11.19\n",
      "2,Ecobee Thermostat,43716,40223,7.99\n",
      "3,Ennio Doorbell,22172,20028,9.67\n",
      "4,Philips B120N10,57308,50900,11.18\n",
      "5,Provision PT737E,42171,37091,12.05\n",
      "6,Provision PT838,42868,37896,11.60\n",
      "7,Samsung SNH1011N,23089,20857,9.67\n",
      "8,SimpleHome XCS71002,36068,33576,6.91\n",
      "9,SimpleHome XCS71003,41006,36702,10.50\n"
     ]
    }
   ],
   "source": [
    "print(\"Evaluation for AE\")\n",
    "print(\"Naive vs Optimized\")\n",
    "print(\"id,name,Naive,Optimized,Gain\")\n",
    "for i, d in enumerate(devices):\n",
    "    nbi = d['features']\n",
    "    nbo = 1\n",
    "    s = d['structure']\n",
    "    nbb = math.ceil(min(s)/2)\n",
    "    ae = construct_ae(nbi, nbo, nbb, s)\n",
    "    ae_naive = []\n",
    "    ae_naive.extend(sorted(s, reverse=True))\n",
    "    ae_naive.append(nbb)\n",
    "    ae_naive.extend(sorted(s, reverse=False))\n",
    "    cb = int(compute_time_complexity_single_pass(nbi, ae_naive, nbo))\n",
    "    ca = int(compute_time_complexity_single_pass(nbi, ae, nbo))\n",
    "    g = (100.0 * (cb - ca))/cb\n",
    "    print(f\"{i + 1},{d['name']},{cb},{ca},{g:0.2f}\")"
   ]
  },
  {
   "cell_type": "code",
   "execution_count": 9,
   "metadata": {
    "execution": {
     "iopub.execute_input": "2021-02-25T10:03:15.071633Z",
     "iopub.status.busy": "2021-02-25T10:03:15.070648Z",
     "iopub.status.idle": "2021-02-25T10:03:15.074813Z",
     "shell.execute_reply": "2021-02-25T10:03:15.074293Z"
    },
    "papermill": {
     "duration": 0.025712,
     "end_time": "2021-02-25T10:03:15.074980",
     "exception": false,
     "start_time": "2021-02-25T10:03:15.049268",
     "status": "completed"
    },
    "tags": []
   },
   "outputs": [
    {
     "name": "stdout",
     "output_type": "stream",
     "text": [
      "Evaluation for AE\n",
      "NN Structure\n",
      "id,name,i,structure,i\n",
      "1,Danmini Doorbell,47,[83, 53, 64, 58, 73, 48, 97, 24, 83, 53, 64, 58, 73, 48, 97],47\n",
      "2,Ecobee Thermostat,47,[75, 58, 66, 52, 88, 24, 75, 58, 66, 52, 88],47\n",
      "3,Ennio Doorbell,59,[49, 34, 38, 43, 31, 57, 16, 49, 34, 38, 43, 31, 57],59\n",
      "4,Philips B120N10,51,[75, 50, 60, 55, 67, 46, 101, 23, 75, 50, 60, 55, 67, 46, 101],51\n",
      "5,Provision PT737E,40,[75, 47, 52, 58, 43, 87, 20, 75, 47, 52, 58, 43, 87],40\n",
      "6,Provision PT838,42,[75, 48, 52, 58, 44, 88, 21, 75, 48, 52, 58, 44, 88],42\n",
      "7,Samsung SNH1011N,56,[50, 35, 39, 44, 32, 59, 16, 50, 35, 39, 44, 32, 59],56\n",
      "8,SimpleHome XCS71002,56,[67, 53, 59, 48, 76, 24, 67, 53, 59, 48, 76],56\n",
      "9,SimpleHome XCS71003,56,[76, 53, 59, 48, 88, 24, 76, 53, 59, 48, 88],56\n"
     ]
    }
   ],
   "source": [
    "print(\"Evaluation for AE\")\n",
    "print(\"NN Structure\")\n",
    "print(\"id,name,i,structure,i\")\n",
    "for i, d in enumerate(devices):\n",
    "    nbi = d['features']\n",
    "    nbo = 1\n",
    "    s = d['structure']\n",
    "    nbb = math.ceil(min(nbi,min(s))/2)\n",
    "    ae = construct_ae(nbi, nbo, nbb, s)\n",
    "    ae_naive = []\n",
    "    ae_naive.extend(sorted(s, reverse=True))\n",
    "    ae_naive.append(nbb)\n",
    "    ae_naive.extend(sorted(s, reverse=False))\n",
    "    cb = int(compute_time_complexity_single_pass(nbi, ae_naive, nbo))\n",
    "    ca = int(compute_time_complexity_single_pass(nbi, ae, nbo))\n",
    "    g = (100.0 * (cb - ca))/cb\n",
    "    print(f\"{i + 1},{d['name']},{nbi},{ae},{nbi}\")"
   ]
  },
  {
   "cell_type": "code",
   "execution_count": 10,
   "metadata": {
    "execution": {
     "iopub.execute_input": "2021-02-25T10:03:15.111487Z",
     "iopub.status.busy": "2021-02-25T10:03:15.110605Z",
     "iopub.status.idle": "2021-02-25T10:03:15.113987Z",
     "shell.execute_reply": "2021-02-25T10:03:15.114787Z"
    },
    "papermill": {
     "duration": 0.02676,
     "end_time": "2021-02-25T10:03:15.115039",
     "exception": false,
     "start_time": "2021-02-25T10:03:15.088279",
     "status": "completed"
    },
    "tags": []
   },
   "outputs": [
    {
     "name": "stdout",
     "output_type": "stream",
     "text": [
      "Evaluation for AE\n",
      "NN Structure Heuristics\n",
      "id,name,i,structure,i\n",
      "1,Danmini Doorbell,47,[476, 2384, 24, 476, 2384],47\n",
      "2,Ecobee Thermostat,47,[432, 2160, 24, 432, 2160],47\n",
      "3,Ennio Doorbell,59,[281, 1408, 30, 281, 1408],59\n",
      "4,Philips B120N10,51,[495, 2476, 26, 495, 2476],51\n",
      "5,Provision PT737E,40,[430, 2150, 20, 430, 2150],40\n",
      "6,Provision PT838,42,[432, 2161, 21, 432, 2161],42\n",
      "7,Samsung SNH1011N,56,[289, 1447, 28, 289, 1447],56\n",
      "8,SimpleHome XCS71002,56,[439, 2195, 28, 439, 2195],56\n",
      "9,SimpleHome XCS71003,56,[435, 2179, 28, 435, 2179],56\n"
     ]
    }
   ],
   "source": [
    "print(\"Evaluation for AE\")\n",
    "print(\"NN Structure Heuristics\")\n",
    "print(\"id,name,i,structure,i\")\n",
    "for i, d in enumerate(devices):\n",
    "    nbi = d['features']\n",
    "    nbo = 1\n",
    "    s = d['struct_heuristics']\n",
    "    nbb = math.ceil(min(nbi,min(s))/2)\n",
    "    ae = construct_ae(nbi, nbo, nbb, s)\n",
    "    ae_naive = []\n",
    "    ae_naive.extend(sorted(s, reverse=True))\n",
    "    ae_naive.append(nbb)\n",
    "    ae_naive.extend(sorted(s, reverse=False))\n",
    "    cb = int(compute_time_complexity_single_pass(nbi, ae_naive, nbo))\n",
    "    ca = int(compute_time_complexity_single_pass(nbi, ae, nbo))\n",
    "    g = (100.0 * (cb - ca))/cb\n",
    "    print(f\"{i + 1},{d['name']},{nbi},{ae},{nbi}\")"
   ]
  },
  {
   "cell_type": "code",
   "execution_count": 11,
   "metadata": {
    "execution": {
     "iopub.execute_input": "2021-02-25T10:03:15.152427Z",
     "iopub.status.busy": "2021-02-25T10:03:15.151677Z",
     "iopub.status.idle": "2021-02-25T10:03:15.155144Z",
     "shell.execute_reply": "2021-02-25T10:03:15.155721Z"
    },
    "papermill": {
     "duration": 0.026158,
     "end_time": "2021-02-25T10:03:15.155932",
     "exception": false,
     "start_time": "2021-02-25T10:03:15.129774",
     "status": "completed"
    },
    "tags": []
   },
   "outputs": [
    {
     "name": "stdout",
     "output_type": "stream",
     "text": [
      "Evaluation for AE\n",
      "NN Structure Genetic\n",
      "id,name,i,structure,i\n",
      "1,Danmini Doorbell,47,[1, 873, 1, 873, 1],47\n",
      "2,Ecobee Thermostat,47,[40, 804, 20, 40, 804],47\n",
      "3,Ennio Doorbell,59,[114, 1676, 30, 114, 1676],59\n",
      "4,Philips B120N10,51,[112, 805, 26, 112, 805],51\n",
      "5,Provision PT737E,40,[127, 1217, 20, 127, 1217],40\n",
      "6,Provision PT838,42,[20, 1223, 10, 20, 1223],42\n",
      "7,Samsung SNH1011N,56,[60, 430, 28, 60, 430],56\n",
      "8,SimpleHome XCS71002,56,[25, 896, 13, 25, 896],56\n",
      "9,SimpleHome XCS71003,56,[24, 1801, 12, 24, 1801],56\n"
     ]
    }
   ],
   "source": [
    "print(\"Evaluation for AE\")\n",
    "print(\"NN Structure Genetic\")\n",
    "print(\"id,name,i,structure,i\")\n",
    "for i, d in enumerate(devices):\n",
    "    nbi = d['features']\n",
    "    nbo = 1\n",
    "    s = d['struct_genetic']\n",
    "    nbb = math.ceil(min(nbi,min(s))/2)\n",
    "    ae = construct_ae(nbi, nbo, nbb, s)\n",
    "    ae_naive = []\n",
    "    ae_naive.extend(sorted(s, reverse=True))\n",
    "    ae_naive.append(nbb)\n",
    "    ae_naive.extend(sorted(s, reverse=False))\n",
    "    cb = int(compute_time_complexity_single_pass(nbi, ae_naive, nbo))\n",
    "    ca = int(compute_time_complexity_single_pass(nbi, ae, nbo))\n",
    "    g = (100.0 * (cb - ca))/cb\n",
    "    print(f\"{i + 1},{d['name']},{nbi},{ae},{nbi}\")"
   ]
  },
  {
   "cell_type": "code",
   "execution_count": 12,
   "metadata": {
    "execution": {
     "iopub.execute_input": "2021-02-25T10:03:15.193482Z",
     "iopub.status.busy": "2021-02-25T10:03:15.192793Z",
     "iopub.status.idle": "2021-02-25T10:03:15.198191Z",
     "shell.execute_reply": "2021-02-25T10:03:15.197647Z"
    },
    "papermill": {
     "duration": 0.028226,
     "end_time": "2021-02-25T10:03:15.198330",
     "exception": false,
     "start_time": "2021-02-25T10:03:15.170104",
     "status": "completed"
    },
    "tags": []
   },
   "outputs": [
    {
     "name": "stdout",
     "output_type": "stream",
     "text": [
      "Evaluation for AE\n",
      "NN Structure Random\n",
      "id,name,i,structure,i\n",
      "1,Danmini Doorbell,47,[45, 18, 65, 94, 86, 26, 91, 18, 50, 83, 70, 47, 16, 46, 71, 59, 59, 61, 18, 16, 57, 8, 45, 18, 65, 94, 86, 26, 91, 18, 50, 83, 70, 47, 16, 46, 71, 59, 59, 61, 18, 16, 57],47\n",
      "2,Ecobee Thermostat,47,[55, 41, 72, 55, 97, 23, 45, 28, 70, 75, 58, 42, 72, 33, 79, 12, 55, 41, 72, 55, 97, 23, 45, 28, 70, 75, 58, 42, 72, 33, 79],47\n",
      "3,Ennio Doorbell,59,[17, 76, 13, 79, 64, 65, 24, 26, 20, 69, 79, 89, 76, 89, 50, 94, 7, 17, 76, 13, 79, 64, 65, 24, 26, 20, 69, 79, 89, 76, 89, 50, 94],59\n",
      "4,Philips B120N10,51,[66, 30, 81, 53, 55, 12, 96, 91, 21, 28, 71, 50, 22, 61, 15, 34, 80, 37, 95, 57, 97, 65, 89, 6, 66, 30, 81, 53, 55, 12, 96, 91, 21, 28, 71, 50, 22, 61, 15, 34, 80, 37, 95, 57, 97, 65, 89],51\n",
      "5,Provision PT737E,40,[19, 10, 19, 57, 24, 71, 25, 17, 87, 74, 70, 27, 94, 19, 36, 27, 86, 59, 23, 64, 5, 19, 10, 19, 57, 24, 71, 25, 17, 87, 74, 70, 27, 94, 19, 36, 27, 86, 59, 23, 64],40\n",
      "6,Provision PT838,42,[55, 30, 67, 59, 45, 25, 65, 17, 90, 40, 82, 37, 18, 97, 20, 57, 11, 74, 6, 55, 30, 67, 59, 45, 25, 65, 17, 90, 40, 82, 37, 18, 97, 20, 57, 11, 74],42\n",
      "7,Samsung SNH1011N,56,[51, 16, 85, 93, 62, 45, 79, 68, 66, 70, 64, 47, 23, 88, 38, 92, 48, 62, 37, 62, 34, 25, 74, 8, 51, 16, 85, 93, 62, 45, 79, 68, 66, 70, 64, 47, 23, 88, 38, 92, 48, 62, 37, 62, 34, 25, 74],56\n",
      "8,SimpleHome XCS71002,56,[58, 92, 42, 56, 53, 55, 35, 81, 71, 57, 37, 58, 73, 20, 96, 39, 87, 32, 12, 91, 6, 58, 92, 42, 56, 53, 55, 35, 81, 71, 57, 37, 58, 73, 20, 96, 39, 87, 32, 12, 91],56\n",
      "9,SimpleHome XCS71003,56,[34, 60, 64, 29, 17, 60, 14, 63, 92, 65, 95, 64, 86, 29, 84, 14, 22, 44, 46, 86, 7, 34, 60, 64, 29, 17, 60, 14, 63, 92, 65, 95, 64, 86, 29, 84, 14, 22, 44, 46, 86],56\n"
     ]
    }
   ],
   "source": [
    "print(\"Evaluation for AE\")\n",
    "print(\"NN Structure Random\")\n",
    "print(\"id,name,i,structure,i\")\n",
    "for i, d in enumerate(devices):\n",
    "    nbi = d['features']\n",
    "    nbo = 1\n",
    "    s = d['struct_random']\n",
    "    nbb = math.ceil(min(nbi,min(s))/2)\n",
    "    ae = construct_ae(nbi, nbo, nbb, s)\n",
    "    ae_naive = []\n",
    "    ae_naive.extend(sorted(s, reverse=True))\n",
    "    ae_naive.append(nbb)\n",
    "    ae_naive.extend(sorted(s, reverse=False))\n",
    "    cb = int(compute_time_complexity_single_pass(nbi, ae_naive, nbo))\n",
    "    ca = int(compute_time_complexity_single_pass(nbi, ae, nbo))\n",
    "    g = (100.0 * (cb - ca))/cb\n",
    "    print(f\"{i + 1},{d['name']},{nbi},{ae},{nbi}\")"
   ]
  },
  {
   "cell_type": "code",
   "execution_count": 13,
   "metadata": {
    "execution": {
     "iopub.execute_input": "2021-02-25T10:03:15.239773Z",
     "iopub.status.busy": "2021-02-25T10:03:15.238907Z",
     "iopub.status.idle": "2021-02-25T10:03:15.242811Z",
     "shell.execute_reply": "2021-02-25T10:03:15.242194Z"
    },
    "papermill": {
     "duration": 0.030226,
     "end_time": "2021-02-25T10:03:15.242966",
     "exception": false,
     "start_time": "2021-02-25T10:03:15.212740",
     "status": "completed"
    },
    "tags": []
   },
   "outputs": [
    {
     "name": "stdout",
     "output_type": "stream",
     "text": [
      "Evaluation for AE\n",
      "Comparison with other techniques\n",
      "id,name,Dahlia,Heuristics,Genetic,Random\n",
      "1,Danmini Doorbell,56112,2362964,3540,112758\n",
      "2,Ecobee Thermostat,39897,1950912,83884,86334\n",
      "3,Ennio Doorbell,20028,859953,444230,105408\n",
      "4,Philips B120N10,50900,2556207,210679,136983\n",
      "5,Provision PT737E,36767,1919950,342295,77093\n",
      "6,Provision PT838,37733,1941862,63413,68158\n",
      "7,Samsung SNH1011N,20857,902605,69110,145716\n",
      "8,SimpleHome XCS71002,33576,2027741,59069,114751\n",
      "9,SimpleHome XCS71003,36702,1995461,111493,110566\n"
     ]
    }
   ],
   "source": [
    "print(\"Evaluation for AE\")\n",
    "print(\"Comparison with other techniques\")\n",
    "print(\"id,name,Dahlia,Heuristics,Genetic,Random\")\n",
    "for i, d in enumerate(devices):\n",
    "    nbi = d['features']\n",
    "    nbo = 1\n",
    "    s = d['structure']\n",
    "    h = d['struct_heuristics']\n",
    "    g = d['struct_genetic']\n",
    "    r = d['struct_random']\n",
    "    nbbs = math.ceil(min(nbi,min(s))/2)\n",
    "    nbbh = math.ceil(min(nbi,min(h))/2)\n",
    "    nbbg = math.ceil(min(nbi,min(g))/2)\n",
    "    nbbr = math.ceil(min(nbi,min(r))/2)\n",
    "    aes = construct_ae(nbi, nbo, nbbs, s)\n",
    "    aeh = construct_ae(nbi, nbo, nbbh, h)\n",
    "    aeg = construct_ae(nbi, nbo, nbbg, g)\n",
    "    aer = construct_ae(nbi, nbo, nbbr, r)\n",
    "    cs = int(compute_time_complexity_single_pass(nbi, aes, nbo))\n",
    "    ch = int(compute_time_complexity_single_pass(nbi, aeh, nbo))\n",
    "    cg = int(compute_time_complexity_single_pass(nbi, aeg, nbo))\n",
    "    cr = int(compute_time_complexity_single_pass(nbi, aer, nbo))\n",
    "    print(f\"{i + 1},{d['name']},{cs},{ch},{cg},{cr}\")"
   ]
  },
  {
   "cell_type": "code",
   "execution_count": null,
   "metadata": {
    "papermill": {
     "duration": 0.014547,
     "end_time": "2021-02-25T10:03:15.273517",
     "exception": false,
     "start_time": "2021-02-25T10:03:15.258970",
     "status": "completed"
    },
    "tags": []
   },
   "outputs": [],
   "source": []
  }
 ],
 "metadata": {
  "kernelspec": {
   "display_name": "Python 3",
   "language": "python",
   "name": "python3"
  },
  "language_info": {
   "codemirror_mode": {
    "name": "ipython",
    "version": 3
   },
   "file_extension": ".py",
   "mimetype": "text/x-python",
   "name": "python",
   "nbconvert_exporter": "python",
   "pygments_lexer": "ipython3",
   "version": "3.7.9"
  },
  "papermill": {
   "default_parameters": {},
   "duration": 15.650384,
   "end_time": "2021-02-25T10:03:16.399702",
   "environment_variables": {},
   "exception": null,
   "input_path": "__notebook__.ipynb",
   "output_path": "__notebook__.ipynb",
   "parameters": {},
   "start_time": "2021-02-25T10:03:00.749318",
   "version": "2.2.2"
  }
 },
 "nbformat": 4,
 "nbformat_minor": 4
}
